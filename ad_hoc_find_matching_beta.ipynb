{
 "cells": [
  {
   "cell_type": "code",
   "execution_count": 1,
   "id": "d2ee2028",
   "metadata": {},
   "outputs": [],
   "source": [
    "import pandas as pd\n",
    "import numpy as np"
   ]
  },
  {
   "cell_type": "code",
   "execution_count": 3,
   "id": "8c489ac1",
   "metadata": {},
   "outputs": [],
   "source": [
    "df = pd.read_csv(\"50_50_50.csv\", sep=\";\")"
   ]
  },
  {
   "cell_type": "code",
   "execution_count": 6,
   "id": "37470400",
   "metadata": {},
   "outputs": [],
   "source": [
    "txt = \"Project #2;Project #3;Project #7;Project #8;Project #9;Project #10;Project #12;Project #13;Project #14;Project #15\""
   ]
  },
  {
   "cell_type": "code",
   "execution_count": null,
   "id": "facec45f",
   "metadata": {},
   "outputs": [],
   "source": []
  },
  {
   "cell_type": "code",
   "execution_count": 10,
   "id": "1b594017",
   "metadata": {},
   "outputs": [],
   "source": [
    "l =txt.split(\";\")"
   ]
  },
  {
   "cell_type": "code",
   "execution_count": 34,
   "id": "1972bf52",
   "metadata": {},
   "outputs": [],
   "source": [
    "str_l = [int(w[-2:].replace(\"#\", \"\")) for w in l]"
   ]
  },
  {
   "cell_type": "code",
   "execution_count": 37,
   "id": "e6701f8c",
   "metadata": {},
   "outputs": [],
   "source": [
    "for col in df.columns[1:]:\n",
    "    beta_l = [i+1 for i, x in enumerate(df[col][:-1]) if x==1]\n",
    "    \n",
    "    if str_l==beta_l:\n",
    "        print(col)"
   ]
  },
  {
   "cell_type": "code",
   "execution_count": 33,
   "id": "64de8c78",
   "metadata": {},
   "outputs": [],
   "source": [
    "beta_l = [i+1 for i, x in enumerate(df[\"9.0\"][:-1]) if x==1]"
   ]
  },
  {
   "cell_type": "code",
   "execution_count": 36,
   "id": "86ef0522",
   "metadata": {},
   "outputs": [
    {
     "data": {
      "text/plain": [
       "True"
      ]
     },
     "execution_count": 36,
     "metadata": {},
     "output_type": "execute_result"
    }
   ],
   "source": [
    "beta_l == beta_l"
   ]
  },
  {
   "cell_type": "code",
   "execution_count": 40,
   "id": "758dbef9",
   "metadata": {},
   "outputs": [],
   "source": [
    "file1 = open('output.txt', 'r')\n",
    "Lines = file1.readlines()"
   ]
  },
  {
   "cell_type": "code",
   "execution_count": 62,
   "id": "62391b6f",
   "metadata": {},
   "outputs": [],
   "source": [
    "output_list = []\n",
    "\n",
    "for line in Lines:\n",
    "\n",
    "    o_l = line.strip().split(\";\")[:10]\n",
    "    if len(o_l)>2:\n",
    "        o = [int(w[-2:].replace(\"#\", \"\")) for w in o_l]\n",
    "        output_list.append(o)"
   ]
  },
  {
   "cell_type": "code",
   "execution_count": 63,
   "id": "8e84a0fc",
   "metadata": {},
   "outputs": [
    {
     "data": {
      "text/plain": [
       "[[2, 3, 7, 8, 9, 10, 12, 13, 14, 15],\n",
       " [2, 3, 7, 8, 9, 10, 12, 13, 15, 17],\n",
       " [2, 5, 7, 8, 9, 10, 12, 13, 15, 17],\n",
       " [2, 5, 7, 11, 12, 13, 14, 15, 16, 20],\n",
       " [2, 5, 10, 11, 12, 13, 14, 15, 16, 20],\n",
       " [2, 7, 8, 9, 10, 12, 13, 14, 15, 16],\n",
       " [2, 7, 8, 9, 10, 12, 13, 14, 15, 17],\n",
       " [2, 7, 8, 10, 11, 12, 13, 14, 15, 16],\n",
       " [2, 7, 9, 11, 12, 13, 14, 15, 16, 20],\n",
       " [2, 7, 10, 11, 12, 13, 14, 15, 16, 20],\n",
       " [2, 8, 10, 11, 12, 13, 14, 15, 16, 20],\n",
       " [3, 4, 7, 8, 9, 10, 12, 13, 15, 17],\n",
       " [3, 7, 8, 9, 10, 12, 13, 14, 15, 17],\n",
       " [7, 8, 9, 11, 12, 13, 14, 15, 16, 20]]"
      ]
     },
     "execution_count": 63,
     "metadata": {},
     "output_type": "execute_result"
    }
   ],
   "source": [
    "output_list"
   ]
  },
  {
   "cell_type": "code",
   "execution_count": 67,
   "id": "751f1bd4",
   "metadata": {},
   "outputs": [
    {
     "name": "stdout",
     "output_type": "stream",
     "text": [
      "[2, 3, 7, 8, 9, 10, 12, 13, 14, 15]\n",
      "Matching Betas: \n",
      "[2, 3, 7, 8, 9, 10, 12, 13, 15, 17]\n",
      "Matching Betas: \n",
      "0.02\n",
      "0.03\n",
      "0.04\n",
      "0.05\n",
      "0.06\n",
      "0.07\n",
      "0.08\n",
      "0.09\n",
      "0.1\n",
      "[2, 5, 7, 8, 9, 10, 12, 13, 15, 17]\n",
      "Matching Betas: \n",
      "[2, 5, 7, 11, 12, 13, 14, 15, 16, 20]\n",
      "Matching Betas: \n",
      "[2, 5, 10, 11, 12, 13, 14, 15, 16, 20]\n",
      "Matching Betas: \n",
      "0.6\n",
      "0.7\n",
      "0.8\n",
      "0.9\n",
      "1.0\n",
      "2.0\n",
      "3.0\n",
      "4.0\n",
      "5.0\n",
      "6.0\n",
      "7.0\n",
      "8.0\n",
      "9.0\n",
      "[2, 7, 8, 9, 10, 12, 13, 14, 15, 16]\n",
      "Matching Betas: \n",
      "0.3\n",
      "0.4\n",
      "[2, 7, 8, 9, 10, 12, 13, 14, 15, 17]\n",
      "Matching Betas: \n",
      "0.2\n",
      "[2, 7, 8, 10, 11, 12, 13, 14, 15, 16]\n",
      "Matching Betas: \n",
      "[2, 7, 9, 11, 12, 13, 14, 15, 16, 20]\n",
      "Matching Betas: \n",
      "[2, 7, 10, 11, 12, 13, 14, 15, 16, 20]\n",
      "Matching Betas: \n",
      "0.5\n",
      "[2, 8, 10, 11, 12, 13, 14, 15, 16, 20]\n",
      "Matching Betas: \n",
      "[3, 4, 7, 8, 9, 10, 12, 13, 15, 17]\n",
      "Matching Betas: \n",
      "0.01\n",
      "[3, 7, 8, 9, 10, 12, 13, 14, 15, 17]\n",
      "Matching Betas: \n",
      "[7, 8, 9, 11, 12, 13, 14, 15, 16, 20]\n",
      "Matching Betas: \n"
     ]
    }
   ],
   "source": [
    "for i in range(len(output_list)):\n",
    "    str_l = output_list[i]\n",
    "    print(str_l)\n",
    "    print(\"Matching Betas: \")\n",
    "    for col in df.columns[1:]:\n",
    "        beta_l = [i+1 for i, x in enumerate(df[col][:-1]) if x==1]\n",
    "\n",
    "        if str_l==beta_l:\n",
    "            \n",
    "            print(col)"
   ]
  }
 ],
 "metadata": {
  "kernelspec": {
   "display_name": "Python 3 (ipykernel)",
   "language": "python",
   "name": "python3"
  },
  "language_info": {
   "codemirror_mode": {
    "name": "ipython",
    "version": 3
   },
   "file_extension": ".py",
   "mimetype": "text/x-python",
   "name": "python",
   "nbconvert_exporter": "python",
   "pygments_lexer": "ipython3",
   "version": "3.9.7"
  }
 },
 "nbformat": 4,
 "nbformat_minor": 5
}
